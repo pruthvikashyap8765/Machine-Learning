{
 "cells": [
  {
   "cell_type": "code",
   "execution_count": 80,
   "id": "537c85bd-b442-435e-ad12-448404ac33b9",
   "metadata": {},
   "outputs": [],
   "source": [
    "from sklearn.datasets import fetch_california_housing"
   ]
  },
  {
   "cell_type": "code",
   "execution_count": 81,
   "id": "9ffa439e-d7d5-416f-b2cb-e74d1d0212ca",
   "metadata": {},
   "outputs": [],
   "source": [
    "housing = fetch_california_housing()"
   ]
  },
  {
   "cell_type": "code",
   "execution_count": 82,
   "id": "c606d3a9-aacc-44a8-89bb-13add76e8438",
   "metadata": {},
   "outputs": [
    {
     "name": "stdout",
     "output_type": "stream",
     "text": [
      "{'data': array([[   8.3252    ,   41.        ,    6.98412698, ...,    2.55555556,\n",
      "          37.88      , -122.23      ],\n",
      "       [   8.3014    ,   21.        ,    6.23813708, ...,    2.10984183,\n",
      "          37.86      , -122.22      ],\n",
      "       [   7.2574    ,   52.        ,    8.28813559, ...,    2.80225989,\n",
      "          37.85      , -122.24      ],\n",
      "       ...,\n",
      "       [   1.7       ,   17.        ,    5.20554273, ...,    2.3256351 ,\n",
      "          39.43      , -121.22      ],\n",
      "       [   1.8672    ,   18.        ,    5.32951289, ...,    2.12320917,\n",
      "          39.43      , -121.32      ],\n",
      "       [   2.3886    ,   16.        ,    5.25471698, ...,    2.61698113,\n",
      "          39.37      , -121.24      ]]), 'target': array([4.526, 3.585, 3.521, ..., 0.923, 0.847, 0.894]), 'frame': None, 'target_names': ['MedHouseVal'], 'feature_names': ['MedInc', 'HouseAge', 'AveRooms', 'AveBedrms', 'Population', 'AveOccup', 'Latitude', 'Longitude'], 'DESCR': '.. _california_housing_dataset:\\n\\nCalifornia Housing dataset\\n--------------------------\\n\\n**Data Set Characteristics:**\\n\\n:Number of Instances: 20640\\n\\n:Number of Attributes: 8 numeric, predictive attributes and the target\\n\\n:Attribute Information:\\n    - MedInc        median income in block group\\n    - HouseAge      median house age in block group\\n    - AveRooms      average number of rooms per household\\n    - AveBedrms     average number of bedrooms per household\\n    - Population    block group population\\n    - AveOccup      average number of household members\\n    - Latitude      block group latitude\\n    - Longitude     block group longitude\\n\\n:Missing Attribute Values: None\\n\\nThis dataset was obtained from the StatLib repository.\\nhttps://www.dcc.fc.up.pt/~ltorgo/Regression/cal_housing.html\\n\\nThe target variable is the median house value for California districts,\\nexpressed in hundreds of thousands of dollars ($100,000).\\n\\nThis dataset was derived from the 1990 U.S. census, using one row per census\\nblock group. A block group is the smallest geographical unit for which the U.S.\\nCensus Bureau publishes sample data (a block group typically has a population\\nof 600 to 3,000 people).\\n\\nA household is a group of people residing within a home. Since the average\\nnumber of rooms and bedrooms in this dataset are provided per household, these\\ncolumns may take surprisingly large values for block groups with few households\\nand many empty houses, such as vacation resorts.\\n\\nIt can be downloaded/loaded using the\\n:func:`sklearn.datasets.fetch_california_housing` function.\\n\\n.. topic:: References\\n\\n    - Pace, R. Kelley and Ronald Barry, Sparse Spatial Autoregressions,\\n      Statistics and Probability Letters, 33 (1997) 291-297\\n'}\n"
     ]
    }
   ],
   "source": [
    "print(housing)"
   ]
  },
  {
   "cell_type": "code",
   "execution_count": 83,
   "id": "95ed9b15-6c55-494f-bebf-090d29da5be8",
   "metadata": {},
   "outputs": [
    {
     "name": "stdout",
     "output_type": "stream",
     "text": [
      "[[   8.3252       41.            6.98412698 ...    2.55555556\n",
      "    37.88       -122.23      ]\n",
      " [   8.3014       21.            6.23813708 ...    2.10984183\n",
      "    37.86       -122.22      ]\n",
      " [   7.2574       52.            8.28813559 ...    2.80225989\n",
      "    37.85       -122.24      ]\n",
      " ...\n",
      " [   1.7          17.            5.20554273 ...    2.3256351\n",
      "    39.43       -121.22      ]\n",
      " [   1.8672       18.            5.32951289 ...    2.12320917\n",
      "    39.43       -121.32      ]\n",
      " [   2.3886       16.            5.25471698 ...    2.61698113\n",
      "    39.37       -121.24      ]]\n"
     ]
    }
   ],
   "source": [
    "print(housing.data)"
   ]
  },
  {
   "cell_type": "code",
   "execution_count": 84,
   "id": "92cb0c19-1775-4c11-9686-8f6769d11516",
   "metadata": {},
   "outputs": [
    {
     "data": {
      "text/plain": [
       "array([8.3252, 8.3014, 7.2574, ..., 1.7   , 1.8672, 2.3886])"
      ]
     },
     "execution_count": 84,
     "metadata": {},
     "output_type": "execute_result"
    }
   ],
   "source": [
    "housing.data[:,0]"
   ]
  },
  {
   "cell_type": "code",
   "execution_count": 85,
   "id": "4d5989a7-882a-4924-8714-eb8b4c0e7d02",
   "metadata": {},
   "outputs": [
    {
     "name": "stdout",
     "output_type": "stream",
     "text": [
      "[4.526 3.585 3.521 ... 0.923 0.847 0.894]\n"
     ]
    }
   ],
   "source": [
    "print(housing.target)"
   ]
  },
  {
   "cell_type": "code",
   "execution_count": 86,
   "id": "a587bc49-e538-4ba4-ab2c-6bf34424727c",
   "metadata": {},
   "outputs": [
    {
     "name": "stdout",
     "output_type": "stream",
     "text": [
      "['MedHouseVal']\n"
     ]
    }
   ],
   "source": [
    "print(housing.target_names)"
   ]
  },
  {
   "cell_type": "code",
   "execution_count": 87,
   "id": "f8630eb2-954e-451d-925c-6820759f2a04",
   "metadata": {},
   "outputs": [
    {
     "name": "stdout",
     "output_type": "stream",
     "text": [
      "['MedInc', 'HouseAge', 'AveRooms', 'AveBedrms', 'Population', 'AveOccup', 'Latitude', 'Longitude']\n"
     ]
    }
   ],
   "source": [
    "print(housing.feature_names)"
   ]
  },
  {
   "cell_type": "code",
   "execution_count": 88,
   "id": "7e04df0e-e497-4ad1-8bb8-7244b8870938",
   "metadata": {},
   "outputs": [
    {
     "name": "stdout",
     "output_type": "stream",
     "text": [
      "(20640, 8)\n"
     ]
    }
   ],
   "source": [
    "print(housing.data.shape)"
   ]
  },
  {
   "cell_type": "code",
   "execution_count": 89,
   "id": "4e1f14e0-a69f-4be5-b266-eb19a8c9dd79",
   "metadata": {},
   "outputs": [
    {
     "name": "stdout",
     "output_type": "stream",
     "text": [
      "(20640,)\n"
     ]
    }
   ],
   "source": [
    "print(housing.target.shape)"
   ]
  },
  {
   "cell_type": "markdown",
   "id": "754383f7-10a8-40a1-a043-e789fd0f0fff",
   "metadata": {},
   "source": [
    "## Splitting the Data"
   ]
  },
  {
   "cell_type": "code",
   "execution_count": 90,
   "id": "cfbb8c32-d9bf-4849-a49b-e3fe635dda72",
   "metadata": {},
   "outputs": [],
   "source": [
    "n = int(0.8*housing.data.shape[0])\n",
    "X_train = housing.data[:n,:]\n",
    "Y_train = housing.target[:n]\n",
    "X_cv = housing.data[n:,:]\n",
    "Y_cv = housing.target[n:]"
   ]
  },
  {
   "cell_type": "code",
   "execution_count": 91,
   "id": "fd49aaa8-b39f-441a-b731-ff76f95b40ca",
   "metadata": {},
   "outputs": [
    {
     "data": {
      "text/plain": [
       "(16512, 8)"
      ]
     },
     "execution_count": 91,
     "metadata": {},
     "output_type": "execute_result"
    }
   ],
   "source": [
    "X_train.shape"
   ]
  },
  {
   "cell_type": "code",
   "execution_count": 92,
   "id": "59a6e689-db4a-4d60-8a1b-d9dd1b571e56",
   "metadata": {},
   "outputs": [
    {
     "data": {
      "text/plain": [
       "(16512,)"
      ]
     },
     "execution_count": 92,
     "metadata": {},
     "output_type": "execute_result"
    }
   ],
   "source": [
    "Y_train.shape"
   ]
  },
  {
   "cell_type": "code",
   "execution_count": 93,
   "id": "721180bf-fd95-4bc7-acae-ac06e0a32fcc",
   "metadata": {},
   "outputs": [
    {
     "data": {
      "text/plain": [
       "(4128, 8)"
      ]
     },
     "execution_count": 93,
     "metadata": {},
     "output_type": "execute_result"
    }
   ],
   "source": [
    "X_cv.shape"
   ]
  },
  {
   "cell_type": "code",
   "execution_count": 94,
   "id": "7a93ac0f-e694-40fc-8393-885bd9fd4af7",
   "metadata": {},
   "outputs": [
    {
     "data": {
      "text/plain": [
       "(4128,)"
      ]
     },
     "execution_count": 94,
     "metadata": {},
     "output_type": "execute_result"
    }
   ],
   "source": [
    "Y_cv.shape"
   ]
  },
  {
   "cell_type": "markdown",
   "id": "e38d5d26-27ac-4217-a605-0bf3abf8077b",
   "metadata": {},
   "source": [
    "## Cost Function"
   ]
  },
  {
   "cell_type": "code",
   "execution_count": 95,
   "id": "8132ea95-9d41-42a0-9e20-ede7090b9c3a",
   "metadata": {},
   "outputs": [],
   "source": [
    "import numpy as np"
   ]
  },
  {
   "cell_type": "code",
   "execution_count": 119,
   "id": "506ce5da-4d42-4780-b6fb-03867daafb00",
   "metadata": {},
   "outputs": [],
   "source": [
    "def cost(x, y, w, b):\n",
    "    m = x.shape[0]\n",
    "    z = (np.dot(x,w) + b - y)\n",
    "\n",
    "    cost = np.sum(z**2)/(2*m)\n",
    "    return cost\n",
    "\n",
    "\n",
    "\n",
    "    # m = x.shape[0] \n",
    "    \n",
    "    # # You need to return this variable correctly\n",
    "    # total_cost = 0\n",
    "    \n",
    "    # ### START CODE HERE ###\n",
    "    # for i in range(m):\n",
    "    #     cost = w*x[i] + b - y[i]\n",
    "    #     cost = cost**2\n",
    "    #     total_cost += cost\n",
    "    \n",
    "    # total_cost = total_cost/(2*m)\n",
    "    # ### END CODE HERE ### \n",
    "\n",
    "    # return total_cost"
   ]
  },
  {
   "cell_type": "markdown",
   "id": "43bf1f07-085e-4961-a2a6-15e77735cdc3",
   "metadata": {},
   "source": [
    "## Derivative"
   ]
  },
  {
   "cell_type": "code",
   "execution_count": 120,
   "id": "53f788ba-8c66-4113-b38d-66974cde9f53",
   "metadata": {},
   "outputs": [],
   "source": [
    "def derivative(x, y, w, b):\n",
    "    m = x.shape[0]  # Number of training examples\n",
    "\n",
    "    z = np.dot(x, w) + b - y  # Compute the difference\n",
    "    dj_dw = (1/m) * np.dot(x.T, z)  # Vectorized gradient for weights\n",
    "    dj_db = np.mean(z)  # Scalar gradient for bias\n",
    "\n",
    "    return dj_dw, dj_db\n",
    "\n",
    "\n",
    "\n",
    "\n",
    "\n",
    "    # m = x.shape[0]\n",
    "    \n",
    "    # # You need to return the following variables correctly\n",
    "    # dj_dw = 0\n",
    "    # dj_db = 0\n",
    "    \n",
    "    # ### START CODE HERE ###\n",
    "    # for i in range(m):\n",
    "    #     cost = w*x[i] + b - y[i]\n",
    "    #     dj_dw += cost*x[i]\n",
    "    #     dj_db += cost\n",
    "    \n",
    "    # dj_dw /= m\n",
    "    # dj_db /= m\n",
    "    # ### END CODE HERE ### \n",
    "        \n",
    "    # return dj_dw, dj_db\n"
   ]
  },
  {
   "cell_type": "markdown",
   "id": "8475fc5b-ca63-4858-b1de-6fb6eff4745e",
   "metadata": {},
   "source": [
    "## Gradient Decent"
   ]
  },
  {
   "cell_type": "code",
   "execution_count": 121,
   "id": "6ec50fc8-3145-4828-8d77-a77c2648716c",
   "metadata": {},
   "outputs": [],
   "source": [
    "import copy\n",
    "import math"
   ]
  },
  {
   "cell_type": "code",
   "execution_count": 143,
   "id": "b35fc112-761c-4efc-b58c-cfc7d2a37487",
   "metadata": {},
   "outputs": [],
   "source": [
    "def gradient_decent(x, y, w, b, alpha, derivative, cost, iterations):\n",
    "    m = x.shape[0]  # Number of training examples\n",
    "    cost_history = []\n",
    "\n",
    "    w_c = w.copy()  \n",
    "    b_c = b  \n",
    "    for i in range(iterations):\n",
    "        dj_dw, dj_db = derivative(x, y, w_c, b_c) \n",
    "        w_c -= alpha * dj_dw  \n",
    "        b_c -= alpha * dj_db  \n",
    "\n",
    "        cost_value = cost(x, y, w_c, b_c)  \n",
    "        cost_history.append(cost_value)\n",
    "\n",
    "        if i % (iterations/10) == 0: \n",
    "            print(f\"Iteration {i}: Cost = {cost_value}\")\n",
    "\n",
    "    return w_c, b_c, cost_history  \n",
    "\n",
    " \n",
    "\n",
    "\n",
    "\n",
    "\n",
    "# def gradient_decent(x, y, w_in, b_in,   alpha, gradient_function,cost_function, num_iters): \n",
    "\n",
    "#     m = len(x)\n",
    "    \n",
    "#     # An array to store cost J and w's at each iteration — primarily for graphing later\n",
    "#     J_history = []\n",
    "#     w_history = []\n",
    "#     w = copy.deepcopy(w_in)  #avoid modifying global w within function\n",
    "#     b = b_in\n",
    "    \n",
    "#     for i in range(num_iters):\n",
    "\n",
    "#         # Calculate the gradient and update the parameters\n",
    "#         dj_dw, dj_db = gradient_function(x, y, w, b )  \n",
    "\n",
    "#         # Update Parameters using w, b, alpha and gradient\n",
    "#         w = w - alpha * dj_dw               \n",
    "#         b = b - alpha * dj_db               \n",
    "\n",
    "#         # Save cost J at each iteration\n",
    "#         if i<100000:      # prevent resource exhaustion \n",
    "#             cost =  cost_function(x, y, w, b)\n",
    "#             J_history.append(cost)\n",
    "\n",
    "#         # Print cost every at intervals 10 times or as many iterations if < 10\n",
    "#         if i% math.ceil(num_iters/10) == 0:\n",
    "#             w_history.append(w)\n",
    "#             print(f\"Iteration {i:4}: Cost {float(J_history[-1]):8.2f}   \")\n",
    "        \n",
    "#     return w, b, J_history\n",
    "\n",
    "        "
   ]
  },
  {
   "cell_type": "markdown",
   "id": "59065735-aa42-4177-b2ca-181913291182",
   "metadata": {},
   "source": [
    "## Training the algorithm"
   ]
  },
  {
   "cell_type": "code",
   "execution_count": 167,
   "id": "36513714-a2e7-4700-9201-3d503f357c53",
   "metadata": {},
   "outputs": [],
   "source": [
    "w = np.zeros(X_train.shape[1])\n",
    "b = 0\n",
    "alpha = 0.0000002\n",
    "iterations = 10000"
   ]
  },
  {
   "cell_type": "code",
   "execution_count": 168,
   "id": "a478465c-62c3-499e-8454-034576e18baa",
   "metadata": {},
   "outputs": [
    {
     "name": "stdout",
     "output_type": "stream",
     "text": [
      "Iteration 0: Cost = 1.5933889863254544\n",
      "Iteration 1000: Cost = 0.6993500857702818\n",
      "Iteration 2000: Cost = 0.643652464495679\n",
      "Iteration 3000: Cost = 0.6390671800449113\n",
      "Iteration 4000: Cost = 0.6381277014589137\n",
      "Iteration 5000: Cost = 0.6374551842509908\n",
      "Iteration 6000: Cost = 0.6368087897828185\n",
      "Iteration 7000: Cost = 0.636171048507747\n",
      "Iteration 8000: Cost = 0.6355404067198297\n",
      "Iteration 9000: Cost = 0.63491645993131\n"
     ]
    }
   ],
   "source": [
    "w, b, cost_history = gradient_decent(X_train, Y_train, w, b, alpha, derivative, cost, iterations)"
   ]
  },
  {
   "cell_type": "code",
   "execution_count": 169,
   "id": "e2636b1a-bae9-4272-9858-0113fa0b9d84",
   "metadata": {},
   "outputs": [],
   "source": [
    "import matplotlib.pyplot as plt"
   ]
  },
  {
   "cell_type": "code",
   "execution_count": 170,
   "id": "d8fccd80-407c-4dc6-9aa3-a3498a90ba55",
   "metadata": {},
   "outputs": [
    {
     "data": {
      "text/plain": [
       "[<matplotlib.lines.Line2D at 0x1351f9fd0>]"
      ]
     },
     "execution_count": 170,
     "metadata": {},
     "output_type": "execute_result"
    },
    {
     "data": {
      "image/png": "[encoded data removed]",
      "text/plain": [
       "<Figure size 640x480 with 1 Axes>"
      ]
     },
     "metadata": {},
     "output_type": "display_data"
    }
   ],
   "source": [
    "plt.plot( range(iterations), cost_history)"
   ]
  },
  {
   "cell_type": "code",
   "execution_count": 171,
   "id": "3ad86ec9-502a-4492-ad1c-92e0e9400243",
   "metadata": {},
   "outputs": [],
   "source": [
    "Y_pred = np.dot(X_cv, w) + b - Y_cv"
   ]
  },
  {
   "cell_type": "code",
   "execution_count": 172,
   "id": "234c5888-0809-41e9-a7c9-779ab441ed79",
   "metadata": {},
   "outputs": [
    {
     "data": {
      "text/plain": [
       "array([0.42767625, 0.72436991, 1.10017713, ..., 1.06376468, 1.14870867,\n",
       "       1.0881048 ])"
      ]
     },
     "execution_count": 172,
     "metadata": {},
     "output_type": "execute_result"
    }
   ],
   "source": [
    "Y_pred"
   ]
  },
  {
   "cell_type": "code",
   "execution_count": 173,
   "id": "b9589210-291d-4762-9734-f6b30c3e5501",
   "metadata": {},
   "outputs": [],
   "source": [
    "from sklearn.metrics import mean_squared_error"
   ]
  },
  {
   "cell_type": "code",
   "execution_count": 174,
   "id": "ccbfdd33-8ae8-4418-8216-c1e26863d6b5",
   "metadata": {},
   "outputs": [],
   "source": [
    "mse = mean_squared_error(Y_cv, Y_pred)"
   ]
  },
  {
   "cell_type": "code",
   "execution_count": 175,
   "id": "56a35449-22a1-4e02-804f-28bbc2918932",
   "metadata": {},
   "outputs": [
    {
     "data": {
      "text/plain": [
       "11.912375633268146"
      ]
     },
     "execution_count": 175,
     "metadata": {},
     "output_type": "execute_result"
    }
   ],
   "source": [
    "mse"
   ]
  },
  {
   "cell_type": "code",
   "execution_count": 176,
   "id": "85b19fd3-9454-4c98-8663-71e686421786",
   "metadata": {},
   "outputs": [
    {
     "name": "stdout",
     "output_type": "stream",
     "text": [
      "Hello\n"
     ]
    }
   ],
   "source": [
    "print(\"Hello\")"
   ]
  },
  {
   "cell_type": "code",
   "execution_count": null,
   "id": "5e62d6bf-a0b9-4280-b3b8-965e44ec62ef",
   "metadata": {},
   "outputs": [],
   "source": []
  }
 ],
 "metadata": {
  "kernelspec": {
   "display_name": "Python 3 (ipykernel)",
   "language": "python",
   "name": "python3"
  },
  "language_info": {
   "codemirror_mode": {
    "name": "ipython",
    "version": 3
   },
   "file_extension": ".py",
   "mimetype": "text/x-python",
   "name": "python",
   "nbconvert_exporter": "python",
   "pygments_lexer": "ipython3",
   "version": "3.12.4"
  }
 },
 "nbformat": 4,
 "nbformat_minor": 5
}
